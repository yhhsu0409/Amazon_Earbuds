{
 "cells": [
  {
   "cell_type": "code",
   "execution_count": 3,
   "metadata": {},
   "outputs": [],
   "source": [
    "import pandas as pd\n",
    "import numpy as np\n",
    "import matplotlib.pyplot as plt\n",
    "import seaborn as sns\n",
    "sns.set()"
   ]
  },
  {
   "cell_type": "code",
   "execution_count": 4,
   "metadata": {},
   "outputs": [
    {
     "data": {
      "text/html": [
       "<div>\n",
       "<style scoped>\n",
       "    .dataframe tbody tr th:only-of-type {\n",
       "        vertical-align: middle;\n",
       "    }\n",
       "\n",
       "    .dataframe tbody tr th {\n",
       "        vertical-align: top;\n",
       "    }\n",
       "\n",
       "    .dataframe thead th {\n",
       "        text-align: right;\n",
       "    }\n",
       "</style>\n",
       "<table border=\"1\" class=\"dataframe\">\n",
       "  <thead>\n",
       "    <tr style=\"text-align: right;\">\n",
       "      <th></th>\n",
       "      <th>Titles</th>\n",
       "      <th>Brands</th>\n",
       "      <th>Prices</th>\n",
       "      <th>Stars</th>\n",
       "      <th>Ratings</th>\n",
       "      <th>Review_Words</th>\n",
       "    </tr>\n",
       "  </thead>\n",
       "  <tbody>\n",
       "    <tr>\n",
       "      <th>0</th>\n",
       "      <td>JLab Audio JBuds Air Sport True Wireless Bluet...</td>\n",
       "      <td>JLAB</td>\n",
       "      <td>69.00</td>\n",
       "      <td>4.1</td>\n",
       "      <td>1815.0</td>\n",
       "      <td>['sound quality', 'battery life', 'stopped wor...</td>\n",
       "    </tr>\n",
       "    <tr>\n",
       "      <th>1</th>\n",
       "      <td>Panasonic RPHV21R In-Ear Earbud Heaphones with...</td>\n",
       "      <td>Panasonic</td>\n",
       "      <td>17.60</td>\n",
       "      <td>3.8</td>\n",
       "      <td>37.0</td>\n",
       "      <td>['earbuds', 'big for my ears', 'another pair',...</td>\n",
       "    </tr>\n",
       "    <tr>\n",
       "      <th>2</th>\n",
       "      <td>Jabra BT2050 Bluetooth Headset (Black)</td>\n",
       "      <td>Jabra</td>\n",
       "      <td>NaN</td>\n",
       "      <td>4.2</td>\n",
       "      <td>27.0</td>\n",
       "      <td>['ear', 'bluetooth', 'headset', 'verizon', 'ea...</td>\n",
       "    </tr>\n",
       "    <tr>\n",
       "      <th>3</th>\n",
       "      <td>Panasonic Canal Type Earphone High Resolution ...</td>\n",
       "      <td>Panasonic</td>\n",
       "      <td>NaN</td>\n",
       "      <td>4.7</td>\n",
       "      <td>25.0</td>\n",
       "      <td>['No Review']</td>\n",
       "    </tr>\n",
       "    <tr>\n",
       "      <th>4</th>\n",
       "      <td>Sony ECM-TL3 Earphone-Style Mini Electret Cond...</td>\n",
       "      <td>Sony</td>\n",
       "      <td>17.99</td>\n",
       "      <td>4.2</td>\n",
       "      <td>215.0</td>\n",
       "      <td>['sound quality', 'crystal clear', 'sides of t...</td>\n",
       "    </tr>\n",
       "    <tr>\n",
       "      <th>...</th>\n",
       "      <td>...</td>\n",
       "      <td>...</td>\n",
       "      <td>...</td>\n",
       "      <td>...</td>\n",
       "      <td>...</td>\n",
       "      <td>...</td>\n",
       "    </tr>\n",
       "    <tr>\n",
       "      <th>1425</th>\n",
       "      <td>Sony MDR-EX450-W Earphones with Aluminium Hous...</td>\n",
       "      <td>Sony</td>\n",
       "      <td>86.27</td>\n",
       "      <td>4.2</td>\n",
       "      <td>97.0</td>\n",
       "      <td>['No Review']</td>\n",
       "    </tr>\n",
       "    <tr>\n",
       "      <th>1426</th>\n",
       "      <td>Koss KEB4 Portable Earbud (Black) (Discontinue...</td>\n",
       "      <td>Koss</td>\n",
       "      <td>NaN</td>\n",
       "      <td>3.9</td>\n",
       "      <td>17.0</td>\n",
       "      <td>['No Review']</td>\n",
       "    </tr>\n",
       "    <tr>\n",
       "      <th>1427</th>\n",
       "      <td>Samsung Galaxy Buds (2019) SM-R170 Bluetooth E...</td>\n",
       "      <td>SAMSUNG</td>\n",
       "      <td>91.41</td>\n",
       "      <td>4.5</td>\n",
       "      <td>2594.0</td>\n",
       "      <td>['battery life', 'sound quality', 'stopped wor...</td>\n",
       "    </tr>\n",
       "    <tr>\n",
       "      <th>1428</th>\n",
       "      <td>1-Pack Panasonic RP-HV096 Black Stereo Earphones</td>\n",
       "      <td>Panasonic</td>\n",
       "      <td>95.05</td>\n",
       "      <td>NaN</td>\n",
       "      <td>0.0</td>\n",
       "      <td>['No Review']</td>\n",
       "    </tr>\n",
       "    <tr>\n",
       "      <th>1429</th>\n",
       "      <td>JBL Endurance PEAK - Waterproof True Wireless ...</td>\n",
       "      <td>Amazon Renewed</td>\n",
       "      <td>84.99</td>\n",
       "      <td>4.6</td>\n",
       "      <td>3.0</td>\n",
       "      <td>['No Review']</td>\n",
       "    </tr>\n",
       "  </tbody>\n",
       "</table>\n",
       "<p>1430 rows × 6 columns</p>\n",
       "</div>"
      ],
      "text/plain": [
       "                                                 Titles          Brands  \\\n",
       "0     JLab Audio JBuds Air Sport True Wireless Bluet...            JLAB   \n",
       "1     Panasonic RPHV21R In-Ear Earbud Heaphones with...       Panasonic   \n",
       "2                Jabra BT2050 Bluetooth Headset (Black)           Jabra   \n",
       "3     Panasonic Canal Type Earphone High Resolution ...       Panasonic   \n",
       "4     Sony ECM-TL3 Earphone-Style Mini Electret Cond...            Sony   \n",
       "...                                                 ...             ...   \n",
       "1425  Sony MDR-EX450-W Earphones with Aluminium Hous...            Sony   \n",
       "1426  Koss KEB4 Portable Earbud (Black) (Discontinue...            Koss   \n",
       "1427  Samsung Galaxy Buds (2019) SM-R170 Bluetooth E...         SAMSUNG   \n",
       "1428   1-Pack Panasonic RP-HV096 Black Stereo Earphones       Panasonic   \n",
       "1429  JBL Endurance PEAK - Waterproof True Wireless ...  Amazon Renewed   \n",
       "\n",
       "      Prices  Stars  Ratings  \\\n",
       "0      69.00    4.1   1815.0   \n",
       "1      17.60    3.8     37.0   \n",
       "2        NaN    4.2     27.0   \n",
       "3        NaN    4.7     25.0   \n",
       "4      17.99    4.2    215.0   \n",
       "...      ...    ...      ...   \n",
       "1425   86.27    4.2     97.0   \n",
       "1426     NaN    3.9     17.0   \n",
       "1427   91.41    4.5   2594.0   \n",
       "1428   95.05    NaN      0.0   \n",
       "1429   84.99    4.6      3.0   \n",
       "\n",
       "                                           Review_Words  \n",
       "0     ['sound quality', 'battery life', 'stopped wor...  \n",
       "1     ['earbuds', 'big for my ears', 'another pair',...  \n",
       "2     ['ear', 'bluetooth', 'headset', 'verizon', 'ea...  \n",
       "3                                         ['No Review']  \n",
       "4     ['sound quality', 'crystal clear', 'sides of t...  \n",
       "...                                                 ...  \n",
       "1425                                      ['No Review']  \n",
       "1426                                      ['No Review']  \n",
       "1427  ['battery life', 'sound quality', 'stopped wor...  \n",
       "1428                                      ['No Review']  \n",
       "1429                                      ['No Review']  \n",
       "\n",
       "[1430 rows x 6 columns]"
      ]
     },
     "execution_count": 4,
     "metadata": {},
     "output_type": "execute_result"
    }
   ],
   "source": [
    "data = pd.read_csv('Clean_Amazon_Earbuds.csv')\n",
    "data.drop(data.columns[0],inplace=True,axis=1)\n",
    "data"
   ]
  },
  {
   "cell_type": "code",
   "execution_count": 5,
   "metadata": {},
   "outputs": [
    {
     "name": "stdout",
     "output_type": "stream",
     "text": [
      "<class 'pandas.core.frame.DataFrame'>\n",
      "RangeIndex: 1430 entries, 0 to 1429\n",
      "Data columns (total 6 columns):\n",
      " #   Column        Non-Null Count  Dtype  \n",
      "---  ------        --------------  -----  \n",
      " 0   Titles        1430 non-null   object \n",
      " 1   Brands        1430 non-null   object \n",
      " 2   Prices        964 non-null    float64\n",
      " 3   Stars         1247 non-null   float64\n",
      " 4   Ratings       1430 non-null   float64\n",
      " 5   Review_Words  1430 non-null   object \n",
      "dtypes: float64(3), object(3)\n",
      "memory usage: 67.2+ KB\n"
     ]
    }
   ],
   "source": [
    "data.info()"
   ]
  },
  {
   "cell_type": "code",
   "execution_count": 6,
   "metadata": {},
   "outputs": [
    {
     "data": {
      "text/html": [
       "<div>\n",
       "<style scoped>\n",
       "    .dataframe tbody tr th:only-of-type {\n",
       "        vertical-align: middle;\n",
       "    }\n",
       "\n",
       "    .dataframe tbody tr th {\n",
       "        vertical-align: top;\n",
       "    }\n",
       "\n",
       "    .dataframe thead th {\n",
       "        text-align: right;\n",
       "    }\n",
       "</style>\n",
       "<table border=\"1\" class=\"dataframe\">\n",
       "  <thead>\n",
       "    <tr style=\"text-align: right;\">\n",
       "      <th></th>\n",
       "      <th>Prices</th>\n",
       "      <th>Stars</th>\n",
       "      <th>Ratings</th>\n",
       "    </tr>\n",
       "  </thead>\n",
       "  <tbody>\n",
       "    <tr>\n",
       "      <th>count</th>\n",
       "      <td>964.000000</td>\n",
       "      <td>1247.000000</td>\n",
       "      <td>1430.000000</td>\n",
       "    </tr>\n",
       "    <tr>\n",
       "      <th>mean</th>\n",
       "      <td>62.108651</td>\n",
       "      <td>3.833039</td>\n",
       "      <td>412.985315</td>\n",
       "    </tr>\n",
       "    <tr>\n",
       "      <th>std</th>\n",
       "      <td>83.764529</td>\n",
       "      <td>0.610159</td>\n",
       "      <td>2443.118189</td>\n",
       "    </tr>\n",
       "    <tr>\n",
       "      <th>min</th>\n",
       "      <td>3.690000</td>\n",
       "      <td>1.000000</td>\n",
       "      <td>0.000000</td>\n",
       "    </tr>\n",
       "    <tr>\n",
       "      <th>25%</th>\n",
       "      <td>17.497500</td>\n",
       "      <td>3.500000</td>\n",
       "      <td>5.000000</td>\n",
       "    </tr>\n",
       "    <tr>\n",
       "      <th>50%</th>\n",
       "      <td>30.800000</td>\n",
       "      <td>3.900000</td>\n",
       "      <td>39.500000</td>\n",
       "    </tr>\n",
       "    <tr>\n",
       "      <th>75%</th>\n",
       "      <td>70.147500</td>\n",
       "      <td>4.200000</td>\n",
       "      <td>197.750000</td>\n",
       "    </tr>\n",
       "    <tr>\n",
       "      <th>max</th>\n",
       "      <td>998.000000</td>\n",
       "      <td>5.000000</td>\n",
       "      <td>83575.000000</td>\n",
       "    </tr>\n",
       "  </tbody>\n",
       "</table>\n",
       "</div>"
      ],
      "text/plain": [
       "           Prices        Stars       Ratings\n",
       "count  964.000000  1247.000000   1430.000000\n",
       "mean    62.108651     3.833039    412.985315\n",
       "std     83.764529     0.610159   2443.118189\n",
       "min      3.690000     1.000000      0.000000\n",
       "25%     17.497500     3.500000      5.000000\n",
       "50%     30.800000     3.900000     39.500000\n",
       "75%     70.147500     4.200000    197.750000\n",
       "max    998.000000     5.000000  83575.000000"
      ]
     },
     "execution_count": 6,
     "metadata": {},
     "output_type": "execute_result"
    }
   ],
   "source": [
    "data.describe()"
   ]
  },
  {
   "cell_type": "code",
   "execution_count": 7,
   "metadata": {},
   "outputs": [
    {
     "data": {
      "text/html": [
       "<div>\n",
       "<style scoped>\n",
       "    .dataframe tbody tr th:only-of-type {\n",
       "        vertical-align: middle;\n",
       "    }\n",
       "\n",
       "    .dataframe tbody tr th {\n",
       "        vertical-align: top;\n",
       "    }\n",
       "\n",
       "    .dataframe thead th {\n",
       "        text-align: right;\n",
       "    }\n",
       "</style>\n",
       "<table border=\"1\" class=\"dataframe\">\n",
       "  <thead>\n",
       "    <tr style=\"text-align: right;\">\n",
       "      <th></th>\n",
       "      <th>Titles</th>\n",
       "      <th>Brands</th>\n",
       "      <th>Prices</th>\n",
       "      <th>Stars</th>\n",
       "      <th>Ratings</th>\n",
       "      <th>Review_Words</th>\n",
       "    </tr>\n",
       "  </thead>\n",
       "  <tbody>\n",
       "    <tr>\n",
       "      <th>0</th>\n",
       "      <td>JLab Audio JBuds Air Sport True Wireless Bluet...</td>\n",
       "      <td>JLAB</td>\n",
       "      <td>69.00</td>\n",
       "      <td>4.1</td>\n",
       "      <td>1815.0</td>\n",
       "      <td>['sound quality', 'battery life', 'stopped wor...</td>\n",
       "    </tr>\n",
       "    <tr>\n",
       "      <th>1</th>\n",
       "      <td>Panasonic RPHV21R In-Ear Earbud Heaphones with...</td>\n",
       "      <td>Panasonic</td>\n",
       "      <td>17.60</td>\n",
       "      <td>3.8</td>\n",
       "      <td>37.0</td>\n",
       "      <td>['earbuds', 'big for my ears', 'another pair',...</td>\n",
       "    </tr>\n",
       "    <tr>\n",
       "      <th>2</th>\n",
       "      <td>Jabra BT2050 Bluetooth Headset (Black)</td>\n",
       "      <td>Jabra</td>\n",
       "      <td>NaN</td>\n",
       "      <td>4.2</td>\n",
       "      <td>27.0</td>\n",
       "      <td>['ear', 'bluetooth', 'headset', 'verizon', 'ea...</td>\n",
       "    </tr>\n",
       "    <tr>\n",
       "      <th>3</th>\n",
       "      <td>Panasonic Canal Type Earphone High Resolution ...</td>\n",
       "      <td>Panasonic</td>\n",
       "      <td>NaN</td>\n",
       "      <td>4.7</td>\n",
       "      <td>25.0</td>\n",
       "      <td>['No Review']</td>\n",
       "    </tr>\n",
       "    <tr>\n",
       "      <th>4</th>\n",
       "      <td>Sony ECM-TL3 Earphone-Style Mini Electret Cond...</td>\n",
       "      <td>Sony</td>\n",
       "      <td>17.99</td>\n",
       "      <td>4.2</td>\n",
       "      <td>215.0</td>\n",
       "      <td>['sound quality', 'crystal clear', 'sides of t...</td>\n",
       "    </tr>\n",
       "    <tr>\n",
       "      <th>...</th>\n",
       "      <td>...</td>\n",
       "      <td>...</td>\n",
       "      <td>...</td>\n",
       "      <td>...</td>\n",
       "      <td>...</td>\n",
       "      <td>...</td>\n",
       "    </tr>\n",
       "    <tr>\n",
       "      <th>1425</th>\n",
       "      <td>Sony MDR-EX450-W Earphones with Aluminium Hous...</td>\n",
       "      <td>Sony</td>\n",
       "      <td>86.27</td>\n",
       "      <td>4.2</td>\n",
       "      <td>97.0</td>\n",
       "      <td>['No Review']</td>\n",
       "    </tr>\n",
       "    <tr>\n",
       "      <th>1426</th>\n",
       "      <td>Koss KEB4 Portable Earbud (Black) (Discontinue...</td>\n",
       "      <td>Koss</td>\n",
       "      <td>NaN</td>\n",
       "      <td>3.9</td>\n",
       "      <td>17.0</td>\n",
       "      <td>['No Review']</td>\n",
       "    </tr>\n",
       "    <tr>\n",
       "      <th>1427</th>\n",
       "      <td>Samsung Galaxy Buds (2019) SM-R170 Bluetooth E...</td>\n",
       "      <td>SAMSUNG</td>\n",
       "      <td>91.41</td>\n",
       "      <td>4.5</td>\n",
       "      <td>2594.0</td>\n",
       "      <td>['battery life', 'sound quality', 'stopped wor...</td>\n",
       "    </tr>\n",
       "    <tr>\n",
       "      <th>1428</th>\n",
       "      <td>1-Pack Panasonic RP-HV096 Black Stereo Earphones</td>\n",
       "      <td>Panasonic</td>\n",
       "      <td>95.05</td>\n",
       "      <td>NaN</td>\n",
       "      <td>0.0</td>\n",
       "      <td>['No Review']</td>\n",
       "    </tr>\n",
       "    <tr>\n",
       "      <th>1429</th>\n",
       "      <td>JBL Endurance PEAK - Waterproof True Wireless ...</td>\n",
       "      <td>Amazon Renewed</td>\n",
       "      <td>84.99</td>\n",
       "      <td>4.6</td>\n",
       "      <td>3.0</td>\n",
       "      <td>['No Review']</td>\n",
       "    </tr>\n",
       "  </tbody>\n",
       "</table>\n",
       "<p>1430 rows × 6 columns</p>\n",
       "</div>"
      ],
      "text/plain": [
       "                                                 Titles          Brands  \\\n",
       "0     JLab Audio JBuds Air Sport True Wireless Bluet...            JLAB   \n",
       "1     Panasonic RPHV21R In-Ear Earbud Heaphones with...       Panasonic   \n",
       "2                Jabra BT2050 Bluetooth Headset (Black)           Jabra   \n",
       "3     Panasonic Canal Type Earphone High Resolution ...       Panasonic   \n",
       "4     Sony ECM-TL3 Earphone-Style Mini Electret Cond...            Sony   \n",
       "...                                                 ...             ...   \n",
       "1425  Sony MDR-EX450-W Earphones with Aluminium Hous...            Sony   \n",
       "1426  Koss KEB4 Portable Earbud (Black) (Discontinue...            Koss   \n",
       "1427  Samsung Galaxy Buds (2019) SM-R170 Bluetooth E...         SAMSUNG   \n",
       "1428   1-Pack Panasonic RP-HV096 Black Stereo Earphones       Panasonic   \n",
       "1429  JBL Endurance PEAK - Waterproof True Wireless ...  Amazon Renewed   \n",
       "\n",
       "      Prices  Stars  Ratings  \\\n",
       "0      69.00    4.1   1815.0   \n",
       "1      17.60    3.8     37.0   \n",
       "2        NaN    4.2     27.0   \n",
       "3        NaN    4.7     25.0   \n",
       "4      17.99    4.2    215.0   \n",
       "...      ...    ...      ...   \n",
       "1425   86.27    4.2     97.0   \n",
       "1426     NaN    3.9     17.0   \n",
       "1427   91.41    4.5   2594.0   \n",
       "1428   95.05    NaN      0.0   \n",
       "1429   84.99    4.6      3.0   \n",
       "\n",
       "                                           Review_Words  \n",
       "0     ['sound quality', 'battery life', 'stopped wor...  \n",
       "1     ['earbuds', 'big for my ears', 'another pair',...  \n",
       "2     ['ear', 'bluetooth', 'headset', 'verizon', 'ea...  \n",
       "3                                         ['No Review']  \n",
       "4     ['sound quality', 'crystal clear', 'sides of t...  \n",
       "...                                                 ...  \n",
       "1425                                      ['No Review']  \n",
       "1426                                      ['No Review']  \n",
       "1427  ['battery life', 'sound quality', 'stopped wor...  \n",
       "1428                                      ['No Review']  \n",
       "1429                                      ['No Review']  \n",
       "\n",
       "[1430 rows x 6 columns]"
      ]
     },
     "execution_count": 7,
     "metadata": {},
     "output_type": "execute_result"
    }
   ],
   "source": [
    "data"
   ]
  },
  {
   "cell_type": "markdown",
   "metadata": {},
   "source": [
    "### 不同商家的星級排名"
   ]
  },
  {
   "cell_type": "code",
   "execution_count": 8,
   "metadata": {},
   "outputs": [
    {
     "data": {
      "text/plain": [
       "Brands\n",
       "Beats                        4.506250\n",
       "SAMSUNG                      4.130769\n",
       "Skullcandy                   4.007778\n",
       "Sennheiser Consumer Audio    3.927586\n",
       "Amazon Renewed               3.916418\n",
       "Shure                        3.860000\n",
       "JLAB                         3.848485\n",
       "Sony                         3.840000\n",
       "JVC                          3.836471\n",
       "Pioneer                      3.822222\n",
       "JBL                          3.819149\n",
       "Panasonic                    3.801020\n",
       "Monster                      3.782353\n",
       "Audio-Technica               3.778205\n",
       "Bang & Olufsen               3.761111\n",
       "PHILIPS                      3.704615\n",
       "Plantronics                  3.692857\n",
       "Koss                         3.528302\n",
       "Jabra                        3.500000\n",
       "Name: Stars, dtype: float64"
      ]
     },
     "execution_count": 8,
     "metadata": {},
     "output_type": "execute_result"
    }
   ],
   "source": [
    "brands_avg_stars = data.groupby('Brands').Stars.mean().sort_values(ascending=False)\n",
    "brands_avg_stars"
   ]
  },
  {
   "cell_type": "code",
   "execution_count": 9,
   "metadata": {},
   "outputs": [
    {
     "data": {
      "text/plain": [
       "3.833039294306335"
      ]
     },
     "execution_count": 9,
     "metadata": {},
     "output_type": "execute_result"
    }
   ],
   "source": [
    "data['Stars'].mean()"
   ]
  },
  {
   "cell_type": "code",
   "execution_count": 10,
   "metadata": {},
   "outputs": [
    {
     "data": {
      "text/plain": [
       "<matplotlib.lines.Line2D at 0x7f93551265e0>"
      ]
     },
     "execution_count": 10,
     "metadata": {},
     "output_type": "execute_result"
    },
    {
     "data": {
      "image/png": "[encoded data removed]",
      "text/plain": [
       "<Figure size 1080x504 with 1 Axes>"
      ]
     },
     "metadata": {},
     "output_type": "display_data"
    }
   ],
   "source": [
    "brands_avg_stars.plot(kind=\"bar\", color='g',figsize=(15,7))\n",
    "plt.xticks(rotation=65)\n",
    "plt.axhline(data['Stars'].mean())"
   ]
  },
  {
   "cell_type": "code",
   "execution_count": 11,
   "metadata": {
    "scrolled": true
   },
   "outputs": [
    {
     "data": {
      "text/plain": [
       "0.6732107056936645"
      ]
     },
     "execution_count": 11,
     "metadata": {},
     "output_type": "execute_result"
    }
   ],
   "source": [
    "brands_avg_stars[0]-data['Stars'].mean()"
   ]
  },
  {
   "cell_type": "code",
   "execution_count": 12,
   "metadata": {},
   "outputs": [
    {
     "data": {
      "text/plain": [
       "-0.33303929430633517"
      ]
     },
     "execution_count": 12,
     "metadata": {},
     "output_type": "execute_result"
    }
   ],
   "source": [
    "brands_avg_stars[-1]-data['Stars'].mean()"
   ]
  },
  {
   "cell_type": "markdown",
   "metadata": {},
   "source": [
    "可以看出基本上評價都並沒有差很多，\n",
    "<br>但是值得提出的是Beats比平均還要高了半顆星\n",
    "<br>但是Jabra卻只.3顆"
   ]
  },
  {
   "cell_type": "markdown",
   "metadata": {},
   "source": [
    "### 不同商家的平均評論數排名 "
   ]
  },
  {
   "cell_type": "code",
   "execution_count": 13,
   "metadata": {},
   "outputs": [
    {
     "data": {
      "text/plain": [
       "Brands\n",
       "Skullcandy                   1184.627660\n",
       "Panasonic                     925.410256\n",
       "Sennheiser Consumer Audio     793.903226\n",
       "JLAB                          705.424242\n",
       "Jabra                         631.263158\n",
       "SAMSUNG                       609.656250\n",
       "Beats                         494.294118\n",
       "PHILIPS                       432.073529\n",
       "Sony                          412.485849\n",
       "Bang & Olufsen                378.240000\n",
       "JBL                           263.072165\n",
       "Plantronics                   253.896552\n",
       "Shure                         230.533333\n",
       "JVC                           211.490991\n",
       "Amazon Renewed                168.564103\n",
       "Monster                       125.113208\n",
       "Audio-Technica                101.941860\n",
       "Koss                           58.934066\n",
       "Pioneer                        41.433333\n",
       "Name: Ratings, dtype: float64"
      ]
     },
     "execution_count": 13,
     "metadata": {},
     "output_type": "execute_result"
    }
   ],
   "source": [
    "brands_avg_ratings = data.groupby('Brands').Ratings.mean().sort_values(ascending=False)\n",
    "brands_avg_ratings"
   ]
  },
  {
   "cell_type": "code",
   "execution_count": 14,
   "metadata": {},
   "outputs": [
    {
     "data": {
      "text/plain": [
       "<matplotlib.legend.Legend at 0x7f9356051160>"
      ]
     },
     "execution_count": 14,
     "metadata": {},
     "output_type": "execute_result"
    },
    {
     "data": {
      "image/png": "[encoded data removed]",
      "text/plain": [
       "<Figure size 1080x504 with 1 Axes>"
      ]
     },
     "metadata": {},
     "output_type": "display_data"
    }
   ],
   "source": [
    "brands_avg_ratings.plot(kind=\"bar\", color='b',figsize=(15,7))\n",
    "plt.xticks(rotation=65)\n",
    "plt.axhline(data['Ratings'].mean(), label='Avg. # of Ratings',color='r')\n",
    "plt.legend()"
   ]
  },
  {
   "cell_type": "markdown",
   "metadata": {},
   "source": [
    "可以看出來雖然說大部分廠商的平均星級是差不多<br>\n",
    "但是很多其實都不高，所以意見有帶保留<br>\n",
    "值得提出的是Skullcandy在有高評論數的情況下依舊有不錯的星級"
   ]
  },
  {
   "cell_type": "markdown",
   "metadata": {},
   "source": [
    "### 不同商家的價格"
   ]
  },
  {
   "cell_type": "code",
   "execution_count": 32,
   "metadata": {},
   "outputs": [
    {
     "data": {
      "text/html": [
       "<div>\n",
       "<style scoped>\n",
       "    .dataframe tbody tr th:only-of-type {\n",
       "        vertical-align: middle;\n",
       "    }\n",
       "\n",
       "    .dataframe tbody tr th {\n",
       "        vertical-align: top;\n",
       "    }\n",
       "\n",
       "    .dataframe thead th {\n",
       "        text-align: right;\n",
       "    }\n",
       "</style>\n",
       "<table border=\"1\" class=\"dataframe\">\n",
       "  <thead>\n",
       "    <tr style=\"text-align: right;\">\n",
       "      <th></th>\n",
       "      <th>Max Price</th>\n",
       "      <th>Avg. Price</th>\n",
       "      <th>Min Price</th>\n",
       "    </tr>\n",
       "    <tr>\n",
       "      <th>Brands</th>\n",
       "      <th></th>\n",
       "      <th></th>\n",
       "      <th></th>\n",
       "    </tr>\n",
       "  </thead>\n",
       "  <tbody>\n",
       "    <tr>\n",
       "      <th>Amazon Renewed</th>\n",
       "      <td>429.99</td>\n",
       "      <td>57.530469</td>\n",
       "      <td>7.49</td>\n",
       "    </tr>\n",
       "    <tr>\n",
       "      <th>Audio-Technica</th>\n",
       "      <td>750.00</td>\n",
       "      <td>96.586429</td>\n",
       "      <td>14.95</td>\n",
       "    </tr>\n",
       "    <tr>\n",
       "      <th>Bang &amp; Olufsen</th>\n",
       "      <td>475.00</td>\n",
       "      <td>221.658571</td>\n",
       "      <td>24.00</td>\n",
       "    </tr>\n",
       "    <tr>\n",
       "      <th>Beats</th>\n",
       "      <td>228.95</td>\n",
       "      <td>166.595625</td>\n",
       "      <td>57.99</td>\n",
       "    </tr>\n",
       "    <tr>\n",
       "      <th>JBL</th>\n",
       "      <td>161.99</td>\n",
       "      <td>55.026212</td>\n",
       "      <td>12.95</td>\n",
       "    </tr>\n",
       "    <tr>\n",
       "      <th>JLAB</th>\n",
       "      <td>89.99</td>\n",
       "      <td>29.761905</td>\n",
       "      <td>9.88</td>\n",
       "    </tr>\n",
       "    <tr>\n",
       "      <th>JVC</th>\n",
       "      <td>679.77</td>\n",
       "      <td>44.537251</td>\n",
       "      <td>4.69</td>\n",
       "    </tr>\n",
       "    <tr>\n",
       "      <th>Jabra</th>\n",
       "      <td>252.91</td>\n",
       "      <td>90.548077</td>\n",
       "      <td>7.77</td>\n",
       "    </tr>\n",
       "    <tr>\n",
       "      <th>Koss</th>\n",
       "      <td>110.36</td>\n",
       "      <td>24.011270</td>\n",
       "      <td>6.48</td>\n",
       "    </tr>\n",
       "    <tr>\n",
       "      <th>Monster</th>\n",
       "      <td>99.99</td>\n",
       "      <td>37.370714</td>\n",
       "      <td>7.99</td>\n",
       "    </tr>\n",
       "    <tr>\n",
       "      <th>PHILIPS</th>\n",
       "      <td>78.00</td>\n",
       "      <td>22.173273</td>\n",
       "      <td>6.43</td>\n",
       "    </tr>\n",
       "    <tr>\n",
       "      <th>Panasonic</th>\n",
       "      <td>349.99</td>\n",
       "      <td>38.635846</td>\n",
       "      <td>5.99</td>\n",
       "    </tr>\n",
       "    <tr>\n",
       "      <th>Pioneer</th>\n",
       "      <td>81.30</td>\n",
       "      <td>38.786818</td>\n",
       "      <td>8.99</td>\n",
       "    </tr>\n",
       "    <tr>\n",
       "      <th>Plantronics</th>\n",
       "      <td>199.99</td>\n",
       "      <td>72.664286</td>\n",
       "      <td>8.93</td>\n",
       "    </tr>\n",
       "    <tr>\n",
       "      <th>SAMSUNG</th>\n",
       "      <td>206.02</td>\n",
       "      <td>56.378750</td>\n",
       "      <td>8.36</td>\n",
       "    </tr>\n",
       "    <tr>\n",
       "      <th>Sennheiser Consumer Audio</th>\n",
       "      <td>472.43</td>\n",
       "      <td>142.073704</td>\n",
       "      <td>17.90</td>\n",
       "    </tr>\n",
       "    <tr>\n",
       "      <th>Shure</th>\n",
       "      <td>821.00</td>\n",
       "      <td>202.108333</td>\n",
       "      <td>14.89</td>\n",
       "    </tr>\n",
       "    <tr>\n",
       "      <th>Skullcandy</th>\n",
       "      <td>129.00</td>\n",
       "      <td>37.572200</td>\n",
       "      <td>3.69</td>\n",
       "    </tr>\n",
       "    <tr>\n",
       "      <th>Sony</th>\n",
       "      <td>998.00</td>\n",
       "      <td>75.360597</td>\n",
       "      <td>6.99</td>\n",
       "    </tr>\n",
       "  </tbody>\n",
       "</table>\n",
       "</div>"
      ],
      "text/plain": [
       "                           Max Price  Avg. Price  Min Price\n",
       "Brands                                                     \n",
       "Amazon Renewed                429.99   57.530469       7.49\n",
       "Audio-Technica                750.00   96.586429      14.95\n",
       "Bang & Olufsen                475.00  221.658571      24.00\n",
       "Beats                         228.95  166.595625      57.99\n",
       "JBL                           161.99   55.026212      12.95\n",
       "JLAB                           89.99   29.761905       9.88\n",
       "JVC                           679.77   44.537251       4.69\n",
       "Jabra                         252.91   90.548077       7.77\n",
       "Koss                          110.36   24.011270       6.48\n",
       "Monster                        99.99   37.370714       7.99\n",
       "PHILIPS                        78.00   22.173273       6.43\n",
       "Panasonic                     349.99   38.635846       5.99\n",
       "Pioneer                        81.30   38.786818       8.99\n",
       "Plantronics                   199.99   72.664286       8.93\n",
       "SAMSUNG                       206.02   56.378750       8.36\n",
       "Sennheiser Consumer Audio     472.43  142.073704      17.90\n",
       "Shure                         821.00  202.108333      14.89\n",
       "Skullcandy                    129.00   37.572200       3.69\n",
       "Sony                          998.00   75.360597       6.99"
      ]
     },
     "execution_count": 32,
     "metadata": {},
     "output_type": "execute_result"
    }
   ],
   "source": [
    "price_max = data.groupby('Brands').Prices.max()\n",
    "price_mean = data.groupby('Brands').Prices.mean()\n",
    "price_min = data.groupby('Brands').Prices.min()\n",
    "price_interval = pd.concat([price_max,price_mean,price_min],axis=1)\n",
    "price_interval.columns = ['Max Price','Avg. Price','Min Price']\n",
    "price_interval"
   ]
  },
  {
   "cell_type": "code",
   "execution_count": 45,
   "metadata": {},
   "outputs": [
    {
     "data": {
      "text/plain": [
       "<matplotlib.legend.Legend at 0x7f93579d5490>"
      ]
     },
     "execution_count": 45,
     "metadata": {},
     "output_type": "execute_result"
    },
    {
     "data": {
      "image/png": "[encoded data removed]",
      "text/plain": [
       "<Figure size 1080x504 with 1 Axes>"
      ]
     },
     "metadata": {},
     "output_type": "display_data"
    }
   ],
   "source": [
    "price_mean_plot = price_interval['Avg. Price'].sort_values(ascending=False)\n",
    "price_mean_plot.plot.bar(figsize=(15,7),label = 'Avg. Price of Brand')\n",
    "plt.axhline(price_mean.mean(), label='Avg. Price',color='r')\n",
    "plt.legend()"
   ]
  },
  {
   "cell_type": "code",
   "execution_count": 46,
   "metadata": {},
   "outputs": [
    {
     "data": {
      "text/plain": [
       "79.44106999865006"
      ]
     },
     "execution_count": 46,
     "metadata": {},
     "output_type": "execute_result"
    }
   ],
   "source": [
    "price_mean.mean()"
   ]
  },
  {
   "cell_type": "code",
   "execution_count": 55,
   "metadata": {},
   "outputs": [
    {
     "name": "stdout",
     "output_type": "stream",
     "text": [
      "45.36996853955672\n",
      "153.26178982668563\n"
     ]
    }
   ],
   "source": [
    "sort_price = price_mean.sort_values(ascending=False)\n",
    "print(sort_price[6:].mean())\n",
    "print(sort_price[:6].mean())"
   ]
  },
  {
   "cell_type": "markdown",
   "metadata": {},
   "source": [
    "耳機的平均市場價格為:79.44<br>\n",
    "可以看出來大部分的廠商其實都是打價格較低的市場<br>\n",
    "市場平均價其實是被少數廠商所拉高的<br>\n",
    "低市場價格實為: 45.37<br>\n",
    "高市場價格實為: 153.26"
   ]
  },
  {
   "cell_type": "markdown",
   "metadata": {},
   "source": [
    "### 商家的商品數量圓形圖"
   ]
  },
  {
   "cell_type": "code",
   "execution_count": 74,
   "metadata": {},
   "outputs": [
    {
     "data": {
      "text/plain": [
       "Brands\n",
       "Beats                         17\n",
       "Bang & Olufsen                25\n",
       "Plantronics                   29\n",
       "Pioneer                       30\n",
       "Sennheiser Consumer Audio     31\n",
       "JLAB                          33\n",
       "Jabra                         38\n",
       "Shure                         45\n",
       "Monster                       53\n",
       "SAMSUNG                       64\n",
       "PHILIPS                       68\n",
       "Amazon Renewed                78\n",
       "Audio-Technica                86\n",
       "Koss                          91\n",
       "Skullcandy                    94\n",
       "JBL                           97\n",
       "Panasonic                    117\n",
       "Sony                         212\n",
       "JVC                          222\n",
       "Name: Titles, dtype: int64"
      ]
     },
     "execution_count": 74,
     "metadata": {},
     "output_type": "execute_result"
    }
   ],
   "source": [
    "item_count = data.groupby('Brands').Titles.count().sort_values()\n",
    "item_count"
   ]
  },
  {
   "cell_type": "code",
   "execution_count": 77,
   "metadata": {},
   "outputs": [
    {
     "data": {
      "text/plain": [
       "Index(['Beats', 'Bang & Olufsen', 'Plantronics', 'Pioneer',\n",
       "       'Sennheiser Consumer Audio', 'JLAB', 'Jabra', 'Shure', 'Monster',\n",
       "       'SAMSUNG', 'PHILIPS', 'Amazon Renewed', 'Audio-Technica', 'Koss',\n",
       "       'Skullcandy', 'JBL', 'Panasonic', 'Sony', 'JVC'],\n",
       "      dtype='object', name='Brands')"
      ]
     },
     "execution_count": 77,
     "metadata": {},
     "output_type": "execute_result"
    }
   ],
   "source": [
    "item_count.index"
   ]
  },
  {
   "cell_type": "code",
   "execution_count": 114,
   "metadata": {},
   "outputs": [
    {
     "data": {
      "image/png": "[encoded data removed]",
      "text/plain": [
       "<Figure size 2160x720 with 1 Axes>"
      ]
     },
     "metadata": {},
     "output_type": "display_data"
    }
   ],
   "source": [
    "fig1, ax1 = plt.subplots(figsize=(30,10))\n",
    "labels = item_count.index\n",
    "ax1.pie(item_count,labels=labels, autopct='%1.1f%%',pctdistance=1.05,radius=1,\n",
    "        shadow=False, startangle=90)\n",
    "centre_circle = plt.Circle((0,0),0.70,fc='white')\n",
    "fig = plt.gcf()\n",
    "fig.gca().add_artist(centre_circle)\n",
    "#ax1.axis('equal')  \n",
    "plt.tight_layout()\n",
    "plt.show()"
   ]
  },
  {
   "cell_type": "code",
   "execution_count": 130,
   "metadata": {},
   "outputs": [
    {
     "data": {
      "text/plain": [
       "Brands\n",
       "Bang & Olufsen               221.658571\n",
       "Shure                        202.108333\n",
       "Beats                        166.595625\n",
       "Sennheiser Consumer Audio    142.073704\n",
       "Audio-Technica                96.586429\n",
       "Jabra                         90.548077\n",
       "Name: Prices, dtype: float64"
      ]
     },
     "execution_count": 130,
     "metadata": {},
     "output_type": "execute_result"
    }
   ],
   "source": [
    "sort_price[:6]"
   ]
  },
  {
   "cell_type": "code",
   "execution_count": 136,
   "metadata": {},
   "outputs": [
    {
     "data": {
      "text/plain": [
       "0.06083916083916084"
      ]
     },
     "execution_count": 136,
     "metadata": {},
     "output_type": "execute_result"
    }
   ],
   "source": [
    "high_price_brands_counts = data.groupby('Brands').Titles.count().sort_values(ascending=False)\n",
    "high_price_brands_percentage = high_price_brands_counts[sort_price[:3].index].sum()/1430\n",
    "high_price_brands_percentage "
   ]
  },
  {
   "cell_type": "markdown",
   "metadata": {},
   "source": [
    "可以看出其實高價位的廠商所推出的商品數量其實不多<br>\n",
    "尤其是平均價格超過100元的前四家高端廠商，商品數加總起來只佔了6.1%的市場商品<br>\n",
    "但是低價位的場數卻是主打薄利多銷"
   ]
  },
  {
   "cell_type": "markdown",
   "metadata": {},
   "source": [
    "### 不同商家的加權分排名"
   ]
  },
  {
   "cell_type": "code",
   "execution_count": 139,
   "metadata": {},
   "outputs": [
    {
     "ename": "ValueError",
     "evalue": "could not convert string to float: 'JLab Audio JBuds Air Sport True Wireless Bluetooth Earbuds + Charging Case - Black - IP66 Sweat Resistance - Class 1 Bluetooth 5.0 Connection - 3 EQ Sound Settings JLab Signature, Balanced, Bass Boost'",
     "output_type": "error",
     "traceback": [
      "\u001b[0;31m---------------------------------------------------------------------------\u001b[0m",
      "\u001b[0;31mValueError\u001b[0m                                Traceback (most recent call last)",
      "\u001b[0;32m<ipython-input-139-54a72f1507bf>\u001b[0m in \u001b[0;36m<module>\u001b[0;34m\u001b[0m\n\u001b[1;32m      1\u001b[0m \u001b[0;32mfrom\u001b[0m \u001b[0msklearn\u001b[0m\u001b[0;34m.\u001b[0m\u001b[0mpreprocessing\u001b[0m \u001b[0;32mimport\u001b[0m \u001b[0mStandardScaler\u001b[0m\u001b[0;34m\u001b[0m\u001b[0;34m\u001b[0m\u001b[0m\n\u001b[1;32m      2\u001b[0m \u001b[0mSS\u001b[0m \u001b[0;34m=\u001b[0m \u001b[0mStandardScaler\u001b[0m\u001b[0;34m(\u001b[0m\u001b[0;34m)\u001b[0m\u001b[0;34m\u001b[0m\u001b[0;34m\u001b[0m\u001b[0m\n\u001b[0;32m----> 3\u001b[0;31m \u001b[0mstandardized\u001b[0m \u001b[0;34m=\u001b[0m \u001b[0mSS\u001b[0m\u001b[0;34m.\u001b[0m\u001b[0mfit_transform\u001b[0m\u001b[0;34m(\u001b[0m\u001b[0mdata\u001b[0m\u001b[0;34m)\u001b[0m\u001b[0;34m\u001b[0m\u001b[0;34m\u001b[0m\u001b[0m\n\u001b[0m\u001b[1;32m      4\u001b[0m \u001b[0mstandardized\u001b[0m\u001b[0;34m\u001b[0m\u001b[0;34m\u001b[0m\u001b[0m\n",
      "\u001b[0;32m/Library/Frameworks/Python.framework/Versions/3.8/lib/python3.8/site-packages/sklearn/base.py\u001b[0m in \u001b[0;36mfit_transform\u001b[0;34m(self, X, y, **fit_params)\u001b[0m\n\u001b[1;32m    688\u001b[0m         \u001b[0;32mif\u001b[0m \u001b[0my\u001b[0m \u001b[0;32mis\u001b[0m \u001b[0;32mNone\u001b[0m\u001b[0;34m:\u001b[0m\u001b[0;34m\u001b[0m\u001b[0;34m\u001b[0m\u001b[0m\n\u001b[1;32m    689\u001b[0m             \u001b[0;31m# fit method of arity 1 (unsupervised transformation)\u001b[0m\u001b[0;34m\u001b[0m\u001b[0;34m\u001b[0m\u001b[0;34m\u001b[0m\u001b[0m\n\u001b[0;32m--> 690\u001b[0;31m             \u001b[0;32mreturn\u001b[0m \u001b[0mself\u001b[0m\u001b[0;34m.\u001b[0m\u001b[0mfit\u001b[0m\u001b[0;34m(\u001b[0m\u001b[0mX\u001b[0m\u001b[0;34m,\u001b[0m \u001b[0;34m**\u001b[0m\u001b[0mfit_params\u001b[0m\u001b[0;34m)\u001b[0m\u001b[0;34m.\u001b[0m\u001b[0mtransform\u001b[0m\u001b[0;34m(\u001b[0m\u001b[0mX\u001b[0m\u001b[0;34m)\u001b[0m\u001b[0;34m\u001b[0m\u001b[0;34m\u001b[0m\u001b[0m\n\u001b[0m\u001b[1;32m    691\u001b[0m         \u001b[0;32melse\u001b[0m\u001b[0;34m:\u001b[0m\u001b[0;34m\u001b[0m\u001b[0;34m\u001b[0m\u001b[0m\n\u001b[1;32m    692\u001b[0m             \u001b[0;31m# fit method of arity 2 (supervised transformation)\u001b[0m\u001b[0;34m\u001b[0m\u001b[0;34m\u001b[0m\u001b[0;34m\u001b[0m\u001b[0m\n",
      "\u001b[0;32m/Library/Frameworks/Python.framework/Versions/3.8/lib/python3.8/site-packages/sklearn/preprocessing/_data.py\u001b[0m in \u001b[0;36mfit\u001b[0;34m(self, X, y)\u001b[0m\n\u001b[1;32m    665\u001b[0m         \u001b[0;31m# Reset internal state before fitting\u001b[0m\u001b[0;34m\u001b[0m\u001b[0;34m\u001b[0m\u001b[0;34m\u001b[0m\u001b[0m\n\u001b[1;32m    666\u001b[0m         \u001b[0mself\u001b[0m\u001b[0;34m.\u001b[0m\u001b[0m_reset\u001b[0m\u001b[0;34m(\u001b[0m\u001b[0;34m)\u001b[0m\u001b[0;34m\u001b[0m\u001b[0;34m\u001b[0m\u001b[0m\n\u001b[0;32m--> 667\u001b[0;31m         \u001b[0;32mreturn\u001b[0m \u001b[0mself\u001b[0m\u001b[0;34m.\u001b[0m\u001b[0mpartial_fit\u001b[0m\u001b[0;34m(\u001b[0m\u001b[0mX\u001b[0m\u001b[0;34m,\u001b[0m \u001b[0my\u001b[0m\u001b[0;34m)\u001b[0m\u001b[0;34m\u001b[0m\u001b[0;34m\u001b[0m\u001b[0m\n\u001b[0m\u001b[1;32m    668\u001b[0m \u001b[0;34m\u001b[0m\u001b[0m\n\u001b[1;32m    669\u001b[0m     \u001b[0;32mdef\u001b[0m \u001b[0mpartial_fit\u001b[0m\u001b[0;34m(\u001b[0m\u001b[0mself\u001b[0m\u001b[0;34m,\u001b[0m \u001b[0mX\u001b[0m\u001b[0;34m,\u001b[0m \u001b[0my\u001b[0m\u001b[0;34m=\u001b[0m\u001b[0;32mNone\u001b[0m\u001b[0;34m)\u001b[0m\u001b[0;34m:\u001b[0m\u001b[0;34m\u001b[0m\u001b[0;34m\u001b[0m\u001b[0m\n",
      "\u001b[0;32m/Library/Frameworks/Python.framework/Versions/3.8/lib/python3.8/site-packages/sklearn/preprocessing/_data.py\u001b[0m in \u001b[0;36mpartial_fit\u001b[0;34m(self, X, y)\u001b[0m\n\u001b[1;32m    694\u001b[0m             \u001b[0mTransformer\u001b[0m \u001b[0minstance\u001b[0m\u001b[0;34m.\u001b[0m\u001b[0;34m\u001b[0m\u001b[0;34m\u001b[0m\u001b[0m\n\u001b[1;32m    695\u001b[0m         \"\"\"\n\u001b[0;32m--> 696\u001b[0;31m         X = self._validate_data(X, accept_sparse=('csr', 'csc'),\n\u001b[0m\u001b[1;32m    697\u001b[0m                                 \u001b[0mestimator\u001b[0m\u001b[0;34m=\u001b[0m\u001b[0mself\u001b[0m\u001b[0;34m,\u001b[0m \u001b[0mdtype\u001b[0m\u001b[0;34m=\u001b[0m\u001b[0mFLOAT_DTYPES\u001b[0m\u001b[0;34m,\u001b[0m\u001b[0;34m\u001b[0m\u001b[0;34m\u001b[0m\u001b[0m\n\u001b[1;32m    698\u001b[0m                                 force_all_finite='allow-nan')\n",
      "\u001b[0;32m/Library/Frameworks/Python.framework/Versions/3.8/lib/python3.8/site-packages/sklearn/base.py\u001b[0m in \u001b[0;36m_validate_data\u001b[0;34m(self, X, y, reset, validate_separately, **check_params)\u001b[0m\n\u001b[1;32m    418\u001b[0m                     \u001b[0;34mf\"requires y to be passed, but the target y is None.\"\u001b[0m\u001b[0;34m\u001b[0m\u001b[0;34m\u001b[0m\u001b[0m\n\u001b[1;32m    419\u001b[0m                 )\n\u001b[0;32m--> 420\u001b[0;31m             \u001b[0mX\u001b[0m \u001b[0;34m=\u001b[0m \u001b[0mcheck_array\u001b[0m\u001b[0;34m(\u001b[0m\u001b[0mX\u001b[0m\u001b[0;34m,\u001b[0m \u001b[0;34m**\u001b[0m\u001b[0mcheck_params\u001b[0m\u001b[0;34m)\u001b[0m\u001b[0;34m\u001b[0m\u001b[0;34m\u001b[0m\u001b[0m\n\u001b[0m\u001b[1;32m    421\u001b[0m             \u001b[0mout\u001b[0m \u001b[0;34m=\u001b[0m \u001b[0mX\u001b[0m\u001b[0;34m\u001b[0m\u001b[0;34m\u001b[0m\u001b[0m\n\u001b[1;32m    422\u001b[0m         \u001b[0;32melse\u001b[0m\u001b[0;34m:\u001b[0m\u001b[0;34m\u001b[0m\u001b[0;34m\u001b[0m\u001b[0m\n",
      "\u001b[0;32m/Library/Frameworks/Python.framework/Versions/3.8/lib/python3.8/site-packages/sklearn/utils/validation.py\u001b[0m in \u001b[0;36minner_f\u001b[0;34m(*args, **kwargs)\u001b[0m\n\u001b[1;32m     71\u001b[0m                           FutureWarning)\n\u001b[1;32m     72\u001b[0m         \u001b[0mkwargs\u001b[0m\u001b[0;34m.\u001b[0m\u001b[0mupdate\u001b[0m\u001b[0;34m(\u001b[0m\u001b[0;34m{\u001b[0m\u001b[0mk\u001b[0m\u001b[0;34m:\u001b[0m \u001b[0marg\u001b[0m \u001b[0;32mfor\u001b[0m \u001b[0mk\u001b[0m\u001b[0;34m,\u001b[0m \u001b[0marg\u001b[0m \u001b[0;32min\u001b[0m \u001b[0mzip\u001b[0m\u001b[0;34m(\u001b[0m\u001b[0msig\u001b[0m\u001b[0;34m.\u001b[0m\u001b[0mparameters\u001b[0m\u001b[0;34m,\u001b[0m \u001b[0margs\u001b[0m\u001b[0;34m)\u001b[0m\u001b[0;34m}\u001b[0m\u001b[0;34m)\u001b[0m\u001b[0;34m\u001b[0m\u001b[0;34m\u001b[0m\u001b[0m\n\u001b[0;32m---> 73\u001b[0;31m         \u001b[0;32mreturn\u001b[0m \u001b[0mf\u001b[0m\u001b[0;34m(\u001b[0m\u001b[0;34m**\u001b[0m\u001b[0mkwargs\u001b[0m\u001b[0;34m)\u001b[0m\u001b[0;34m\u001b[0m\u001b[0;34m\u001b[0m\u001b[0m\n\u001b[0m\u001b[1;32m     74\u001b[0m     \u001b[0;32mreturn\u001b[0m \u001b[0minner_f\u001b[0m\u001b[0;34m\u001b[0m\u001b[0;34m\u001b[0m\u001b[0m\n\u001b[1;32m     75\u001b[0m \u001b[0;34m\u001b[0m\u001b[0m\n",
      "\u001b[0;32m/Library/Frameworks/Python.framework/Versions/3.8/lib/python3.8/site-packages/sklearn/utils/validation.py\u001b[0m in \u001b[0;36mcheck_array\u001b[0;34m(array, accept_sparse, accept_large_sparse, dtype, order, copy, force_all_finite, ensure_2d, allow_nd, ensure_min_samples, ensure_min_features, estimator)\u001b[0m\n\u001b[1;32m    597\u001b[0m                     \u001b[0marray\u001b[0m \u001b[0;34m=\u001b[0m \u001b[0marray\u001b[0m\u001b[0;34m.\u001b[0m\u001b[0mastype\u001b[0m\u001b[0;34m(\u001b[0m\u001b[0mdtype\u001b[0m\u001b[0;34m,\u001b[0m \u001b[0mcasting\u001b[0m\u001b[0;34m=\u001b[0m\u001b[0;34m\"unsafe\"\u001b[0m\u001b[0;34m,\u001b[0m \u001b[0mcopy\u001b[0m\u001b[0;34m=\u001b[0m\u001b[0;32mFalse\u001b[0m\u001b[0;34m)\u001b[0m\u001b[0;34m\u001b[0m\u001b[0;34m\u001b[0m\u001b[0m\n\u001b[1;32m    598\u001b[0m                 \u001b[0;32melse\u001b[0m\u001b[0;34m:\u001b[0m\u001b[0;34m\u001b[0m\u001b[0;34m\u001b[0m\u001b[0m\n\u001b[0;32m--> 599\u001b[0;31m                     \u001b[0marray\u001b[0m \u001b[0;34m=\u001b[0m \u001b[0mnp\u001b[0m\u001b[0;34m.\u001b[0m\u001b[0masarray\u001b[0m\u001b[0;34m(\u001b[0m\u001b[0marray\u001b[0m\u001b[0;34m,\u001b[0m \u001b[0morder\u001b[0m\u001b[0;34m=\u001b[0m\u001b[0morder\u001b[0m\u001b[0;34m,\u001b[0m \u001b[0mdtype\u001b[0m\u001b[0;34m=\u001b[0m\u001b[0mdtype\u001b[0m\u001b[0;34m)\u001b[0m\u001b[0;34m\u001b[0m\u001b[0;34m\u001b[0m\u001b[0m\n\u001b[0m\u001b[1;32m    600\u001b[0m             \u001b[0;32mexcept\u001b[0m \u001b[0mComplexWarning\u001b[0m\u001b[0;34m:\u001b[0m\u001b[0;34m\u001b[0m\u001b[0;34m\u001b[0m\u001b[0m\n\u001b[1;32m    601\u001b[0m                 raise ValueError(\"Complex data not supported\\n\"\n",
      "\u001b[0;32m/Library/Frameworks/Python.framework/Versions/3.8/lib/python3.8/site-packages/numpy/core/_asarray.py\u001b[0m in \u001b[0;36masarray\u001b[0;34m(a, dtype, order)\u001b[0m\n\u001b[1;32m     81\u001b[0m \u001b[0;34m\u001b[0m\u001b[0m\n\u001b[1;32m     82\u001b[0m     \"\"\"\n\u001b[0;32m---> 83\u001b[0;31m     \u001b[0;32mreturn\u001b[0m \u001b[0marray\u001b[0m\u001b[0;34m(\u001b[0m\u001b[0ma\u001b[0m\u001b[0;34m,\u001b[0m \u001b[0mdtype\u001b[0m\u001b[0;34m,\u001b[0m \u001b[0mcopy\u001b[0m\u001b[0;34m=\u001b[0m\u001b[0;32mFalse\u001b[0m\u001b[0;34m,\u001b[0m \u001b[0morder\u001b[0m\u001b[0;34m=\u001b[0m\u001b[0morder\u001b[0m\u001b[0;34m)\u001b[0m\u001b[0;34m\u001b[0m\u001b[0;34m\u001b[0m\u001b[0m\n\u001b[0m\u001b[1;32m     84\u001b[0m \u001b[0;34m\u001b[0m\u001b[0m\n\u001b[1;32m     85\u001b[0m \u001b[0;34m\u001b[0m\u001b[0m\n",
      "\u001b[0;32m/Library/Frameworks/Python.framework/Versions/3.8/lib/python3.8/site-packages/pandas/core/generic.py\u001b[0m in \u001b[0;36m__array__\u001b[0;34m(self, dtype)\u001b[0m\n\u001b[1;32m   1776\u001b[0m \u001b[0;34m\u001b[0m\u001b[0m\n\u001b[1;32m   1777\u001b[0m     \u001b[0;32mdef\u001b[0m \u001b[0m__array__\u001b[0m\u001b[0;34m(\u001b[0m\u001b[0mself\u001b[0m\u001b[0;34m,\u001b[0m \u001b[0mdtype\u001b[0m\u001b[0;34m=\u001b[0m\u001b[0;32mNone\u001b[0m\u001b[0;34m)\u001b[0m \u001b[0;34m->\u001b[0m \u001b[0mnp\u001b[0m\u001b[0;34m.\u001b[0m\u001b[0mndarray\u001b[0m\u001b[0;34m:\u001b[0m\u001b[0;34m\u001b[0m\u001b[0;34m\u001b[0m\u001b[0m\n\u001b[0;32m-> 1778\u001b[0;31m         \u001b[0;32mreturn\u001b[0m \u001b[0mnp\u001b[0m\u001b[0;34m.\u001b[0m\u001b[0masarray\u001b[0m\u001b[0;34m(\u001b[0m\u001b[0mself\u001b[0m\u001b[0;34m.\u001b[0m\u001b[0m_values\u001b[0m\u001b[0;34m,\u001b[0m \u001b[0mdtype\u001b[0m\u001b[0;34m=\u001b[0m\u001b[0mdtype\u001b[0m\u001b[0;34m)\u001b[0m\u001b[0;34m\u001b[0m\u001b[0;34m\u001b[0m\u001b[0m\n\u001b[0m\u001b[1;32m   1779\u001b[0m \u001b[0;34m\u001b[0m\u001b[0m\n\u001b[1;32m   1780\u001b[0m     \u001b[0;32mdef\u001b[0m \u001b[0m__array_wrap__\u001b[0m\u001b[0;34m(\u001b[0m\u001b[0mself\u001b[0m\u001b[0;34m,\u001b[0m \u001b[0mresult\u001b[0m\u001b[0;34m,\u001b[0m \u001b[0mcontext\u001b[0m\u001b[0;34m=\u001b[0m\u001b[0;32mNone\u001b[0m\u001b[0;34m)\u001b[0m\u001b[0;34m:\u001b[0m\u001b[0;34m\u001b[0m\u001b[0;34m\u001b[0m\u001b[0m\n",
      "\u001b[0;32m/Library/Frameworks/Python.framework/Versions/3.8/lib/python3.8/site-packages/numpy/core/_asarray.py\u001b[0m in \u001b[0;36masarray\u001b[0;34m(a, dtype, order)\u001b[0m\n\u001b[1;32m     81\u001b[0m \u001b[0;34m\u001b[0m\u001b[0m\n\u001b[1;32m     82\u001b[0m     \"\"\"\n\u001b[0;32m---> 83\u001b[0;31m     \u001b[0;32mreturn\u001b[0m \u001b[0marray\u001b[0m\u001b[0;34m(\u001b[0m\u001b[0ma\u001b[0m\u001b[0;34m,\u001b[0m \u001b[0mdtype\u001b[0m\u001b[0;34m,\u001b[0m \u001b[0mcopy\u001b[0m\u001b[0;34m=\u001b[0m\u001b[0;32mFalse\u001b[0m\u001b[0;34m,\u001b[0m \u001b[0morder\u001b[0m\u001b[0;34m=\u001b[0m\u001b[0morder\u001b[0m\u001b[0;34m)\u001b[0m\u001b[0;34m\u001b[0m\u001b[0;34m\u001b[0m\u001b[0m\n\u001b[0m\u001b[1;32m     84\u001b[0m \u001b[0;34m\u001b[0m\u001b[0m\n\u001b[1;32m     85\u001b[0m \u001b[0;34m\u001b[0m\u001b[0m\n",
      "\u001b[0;31mValueError\u001b[0m: could not convert string to float: 'JLab Audio JBuds Air Sport True Wireless Bluetooth Earbuds + Charging Case - Black - IP66 Sweat Resistance - Class 1 Bluetooth 5.0 Connection - 3 EQ Sound Settings JLab Signature, Balanced, Bass Boost'"
     ]
    }
   ],
   "source": [
    "from sklearn.preprocessing import StandardScaler\n",
    "SS = StandardScaler()\n",
    "standardized = SS.fit_transform(data)\n",
    "standardized"
   ]
  },
  {
   "cell_type": "code",
   "execution_count": 140,
   "metadata": {},
   "outputs": [
    {
     "data": {
      "text/html": [
       "<div>\n",
       "<style scoped>\n",
       "    .dataframe tbody tr th:only-of-type {\n",
       "        vertical-align: middle;\n",
       "    }\n",
       "\n",
       "    .dataframe tbody tr th {\n",
       "        vertical-align: top;\n",
       "    }\n",
       "\n",
       "    .dataframe thead th {\n",
       "        text-align: right;\n",
       "    }\n",
       "</style>\n",
       "<table border=\"1\" class=\"dataframe\">\n",
       "  <thead>\n",
       "    <tr style=\"text-align: right;\">\n",
       "      <th></th>\n",
       "      <th>Titles</th>\n",
       "      <th>Brands</th>\n",
       "      <th>Prices</th>\n",
       "      <th>Stars</th>\n",
       "      <th>Ratings</th>\n",
       "      <th>Review_Words</th>\n",
       "    </tr>\n",
       "  </thead>\n",
       "  <tbody>\n",
       "    <tr>\n",
       "      <th>0</th>\n",
       "      <td>JLab Audio JBuds Air Sport True Wireless Bluet...</td>\n",
       "      <td>JLAB</td>\n",
       "      <td>69.00</td>\n",
       "      <td>4.1</td>\n",
       "      <td>1815.0</td>\n",
       "      <td>['sound quality', 'battery life', 'stopped wor...</td>\n",
       "    </tr>\n",
       "    <tr>\n",
       "      <th>1</th>\n",
       "      <td>Panasonic RPHV21R In-Ear Earbud Heaphones with...</td>\n",
       "      <td>Panasonic</td>\n",
       "      <td>17.60</td>\n",
       "      <td>3.8</td>\n",
       "      <td>37.0</td>\n",
       "      <td>['earbuds', 'big for my ears', 'another pair',...</td>\n",
       "    </tr>\n",
       "    <tr>\n",
       "      <th>2</th>\n",
       "      <td>Jabra BT2050 Bluetooth Headset (Black)</td>\n",
       "      <td>Jabra</td>\n",
       "      <td>NaN</td>\n",
       "      <td>4.2</td>\n",
       "      <td>27.0</td>\n",
       "      <td>['ear', 'bluetooth', 'headset', 'verizon', 'ea...</td>\n",
       "    </tr>\n",
       "    <tr>\n",
       "      <th>3</th>\n",
       "      <td>Panasonic Canal Type Earphone High Resolution ...</td>\n",
       "      <td>Panasonic</td>\n",
       "      <td>NaN</td>\n",
       "      <td>4.7</td>\n",
       "      <td>25.0</td>\n",
       "      <td>['No Review']</td>\n",
       "    </tr>\n",
       "    <tr>\n",
       "      <th>4</th>\n",
       "      <td>Sony ECM-TL3 Earphone-Style Mini Electret Cond...</td>\n",
       "      <td>Sony</td>\n",
       "      <td>17.99</td>\n",
       "      <td>4.2</td>\n",
       "      <td>215.0</td>\n",
       "      <td>['sound quality', 'crystal clear', 'sides of t...</td>\n",
       "    </tr>\n",
       "    <tr>\n",
       "      <th>...</th>\n",
       "      <td>...</td>\n",
       "      <td>...</td>\n",
       "      <td>...</td>\n",
       "      <td>...</td>\n",
       "      <td>...</td>\n",
       "      <td>...</td>\n",
       "    </tr>\n",
       "    <tr>\n",
       "      <th>1425</th>\n",
       "      <td>Sony MDR-EX450-W Earphones with Aluminium Hous...</td>\n",
       "      <td>Sony</td>\n",
       "      <td>86.27</td>\n",
       "      <td>4.2</td>\n",
       "      <td>97.0</td>\n",
       "      <td>['No Review']</td>\n",
       "    </tr>\n",
       "    <tr>\n",
       "      <th>1426</th>\n",
       "      <td>Koss KEB4 Portable Earbud (Black) (Discontinue...</td>\n",
       "      <td>Koss</td>\n",
       "      <td>NaN</td>\n",
       "      <td>3.9</td>\n",
       "      <td>17.0</td>\n",
       "      <td>['No Review']</td>\n",
       "    </tr>\n",
       "    <tr>\n",
       "      <th>1427</th>\n",
       "      <td>Samsung Galaxy Buds (2019) SM-R170 Bluetooth E...</td>\n",
       "      <td>SAMSUNG</td>\n",
       "      <td>91.41</td>\n",
       "      <td>4.5</td>\n",
       "      <td>2594.0</td>\n",
       "      <td>['battery life', 'sound quality', 'stopped wor...</td>\n",
       "    </tr>\n",
       "    <tr>\n",
       "      <th>1428</th>\n",
       "      <td>1-Pack Panasonic RP-HV096 Black Stereo Earphones</td>\n",
       "      <td>Panasonic</td>\n",
       "      <td>95.05</td>\n",
       "      <td>NaN</td>\n",
       "      <td>0.0</td>\n",
       "      <td>['No Review']</td>\n",
       "    </tr>\n",
       "    <tr>\n",
       "      <th>1429</th>\n",
       "      <td>JBL Endurance PEAK - Waterproof True Wireless ...</td>\n",
       "      <td>Amazon Renewed</td>\n",
       "      <td>84.99</td>\n",
       "      <td>4.6</td>\n",
       "      <td>3.0</td>\n",
       "      <td>['No Review']</td>\n",
       "    </tr>\n",
       "  </tbody>\n",
       "</table>\n",
       "<p>1430 rows × 6 columns</p>\n",
       "</div>"
      ],
      "text/plain": [
       "                                                 Titles          Brands  \\\n",
       "0     JLab Audio JBuds Air Sport True Wireless Bluet...            JLAB   \n",
       "1     Panasonic RPHV21R In-Ear Earbud Heaphones with...       Panasonic   \n",
       "2                Jabra BT2050 Bluetooth Headset (Black)           Jabra   \n",
       "3     Panasonic Canal Type Earphone High Resolution ...       Panasonic   \n",
       "4     Sony ECM-TL3 Earphone-Style Mini Electret Cond...            Sony   \n",
       "...                                                 ...             ...   \n",
       "1425  Sony MDR-EX450-W Earphones with Aluminium Hous...            Sony   \n",
       "1426  Koss KEB4 Portable Earbud (Black) (Discontinue...            Koss   \n",
       "1427  Samsung Galaxy Buds (2019) SM-R170 Bluetooth E...         SAMSUNG   \n",
       "1428   1-Pack Panasonic RP-HV096 Black Stereo Earphones       Panasonic   \n",
       "1429  JBL Endurance PEAK - Waterproof True Wireless ...  Amazon Renewed   \n",
       "\n",
       "      Prices  Stars  Ratings  \\\n",
       "0      69.00    4.1   1815.0   \n",
       "1      17.60    3.8     37.0   \n",
       "2        NaN    4.2     27.0   \n",
       "3        NaN    4.7     25.0   \n",
       "4      17.99    4.2    215.0   \n",
       "...      ...    ...      ...   \n",
       "1425   86.27    4.2     97.0   \n",
       "1426     NaN    3.9     17.0   \n",
       "1427   91.41    4.5   2594.0   \n",
       "1428   95.05    NaN      0.0   \n",
       "1429   84.99    4.6      3.0   \n",
       "\n",
       "                                           Review_Words  \n",
       "0     ['sound quality', 'battery life', 'stopped wor...  \n",
       "1     ['earbuds', 'big for my ears', 'another pair',...  \n",
       "2     ['ear', 'bluetooth', 'headset', 'verizon', 'ea...  \n",
       "3                                         ['No Review']  \n",
       "4     ['sound quality', 'crystal clear', 'sides of t...  \n",
       "...                                                 ...  \n",
       "1425                                      ['No Review']  \n",
       "1426                                      ['No Review']  \n",
       "1427  ['battery life', 'sound quality', 'stopped wor...  \n",
       "1428                                      ['No Review']  \n",
       "1429                                      ['No Review']  \n",
       "\n",
       "[1430 rows x 6 columns]"
      ]
     },
     "execution_count": 140,
     "metadata": {},
     "output_type": "execute_result"
    }
   ],
   "source": [
    "data"
   ]
  },
  {
   "cell_type": "code",
   "execution_count": null,
   "metadata": {},
   "outputs": [],
   "source": []
  }
 ],
 "metadata": {
  "kernelspec": {
   "display_name": "Python 3",
   "language": "python",
   "name": "python3"
  },
  "language_info": {
   "codemirror_mode": {
    "name": "ipython",
    "version": 3
   },
   "file_extension": ".py",
   "mimetype": "text/x-python",
   "name": "python",
   "nbconvert_exporter": "python",
   "pygments_lexer": "ipython3",
   "version": "3.8.5"
  }
 },
 "nbformat": 4,
 "nbformat_minor": 4
}
